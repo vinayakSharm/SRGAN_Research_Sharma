{
 "cells": [
  {
   "cell_type": "markdown",
   "metadata": {},
   "source": [
    "# Testing SRGAN on dataset similar to ours"
   ]
  },
  {
   "cell_type": "code",
   "execution_count": 1,
   "metadata": {},
   "outputs": [
    {
     "name": "stdout",
     "output_type": "stream",
     "text": [
      "zsh:1: command not found: nvidia\n",
      "Collecting https://github.com/chengs/tqdm/archive/colab.zip\n",
      "\u001b[33m  WARNING: Retrying (Retry(total=4, connect=None, read=None, redirect=None, status=None)) after connection broken by 'NewConnectionError('<pip._vendor.urllib3.connection.HTTPSConnection object at 0x7fb59ae7c2b0>: Failed to establish a new connection: [Errno 65] No route to host')': /chengs/tqdm/archive/colab.zip\u001b[0m\n",
      "\u001b[33m  WARNING: Retrying (Retry(total=3, connect=None, read=None, redirect=None, status=None)) after connection broken by 'NewConnectionError('<pip._vendor.urllib3.connection.HTTPSConnection object at 0x7fb59ae7c550>: Failed to establish a new connection: [Errno 65] No route to host')': /chengs/tqdm/archive/colab.zip\u001b[0m\n",
      "  Using cached https://github.com/chengs/tqdm/archive/colab.zip\n",
      "Building wheels for collected packages: tqdm\n",
      "  Building wheel for tqdm (setup.py) ... \u001b[?25ldone\n",
      "\u001b[?25h  Created wheel for tqdm: filename=tqdm-4.28.1-py2.py3-none-any.whl size=47868 sha256=5dca5859c44f681859e5e734795add5ca5a4ec74d6e28ac8001f2b8c4519191c\n",
      "  Stored in directory: /private/var/folders/8t/065tyyh569q4dhpdplp8nmsh0000gn/T/pip-ephem-wheel-cache-e6gb8jy3/wheels/a7/30/17/f85112bf3ff9d07da5ef0a111c02e4a86df55d990ce52864cd\n",
      "Successfully built tqdm\n",
      "Installing collected packages: tqdm\n",
      "  Attempting uninstall: tqdm\n",
      "    Found existing installation: tqdm 4.28.1\n",
      "    Uninstalling tqdm-4.28.1:\n",
      "      Successfully uninstalled tqdm-4.28.1\n",
      "\u001b[31mERROR: pip's dependency resolver does not currently take into account all the packages that are installed. This behaviour is the source of the following dependency conflicts.\n",
      "pytorch-lightning 0.9.0 requires tensorboard==2.2.0, but you have tensorboard 2.4.1 which is incompatible.\n",
      "pytorch-lightning 0.9.0 requires tqdm>=4.41.0, but you have tqdm 4.28.1 which is incompatible.\u001b[0m\n",
      "Successfully installed tqdm-4.28.1\n",
      "\u001b[33mWARNING: You are using pip version 21.0.1; however, version 21.1.1 is available.\n",
      "You should consider upgrading via the '/Users/vinayak/opt/anaconda3/bin/python -m pip install --upgrade pip' command.\u001b[0m\n"
     ]
    }
   ],
   "source": [
    "!nvidia - smi\n",
    "!pip install --force https://github.com/chengs/tqdm/archive/colab.zip"
   ]
  },
  {
   "cell_type": "markdown",
   "metadata": {},
   "source": [
    "# Initialize SRGAN "
   ]
  },
  {
   "cell_type": "code",
   "execution_count": 2,
   "metadata": {},
   "outputs": [],
   "source": [
    "#Hyperparameters\n",
    "UPSCALE_FACTOR = 2\n",
    "BATCHSIZE = 2\n",
    "EPOCHS = 1000\n",
    "LOWRES = 56"
   ]
  },
  {
   "cell_type": "code",
   "execution_count": 5,
   "metadata": {},
   "outputs": [],
   "source": [
    "import os\n",
    "from tqdm.auto import tqdm\n",
    "import urllib.request\n",
    "import zipfile\n",
    "\n",
    "DEVSET_URL = \"http://data.vision.ee.ethz.ch/cvl/DIV2K/DIV2K_valid_HR.zip\"\n",
    "TRAINSET_URL = \"http://data.vision.ee.ethz.ch/cvl/DIV2K/DIV2K_train_HR.zip\"\n",
    "DEVSET = \"./data/DIV2K_valid_HR.zip\"\n",
    "TRAINSET = \"./data/DIV2K_train_HR.zip\"\n",
    "DEVDATA_FOLDER = \"./data/DIV2K_valid_HR\"\n",
    "TRAINDATA_FOLDER = \"./data/DIV2K_train_HR\"\n",
    "\n",
    "class TqdmUpTo(tqdm):\n",
    "    def update_to(self, b=1, bsize=1, tsize=None):\n",
    "        if tsize is not None:\n",
    "            self.total = tsize\n",
    "        self.update(b * bsize - self.n)\n",
    "        \n",
    "        \n",
    "if not os.path.exists('./data'):\n",
    "    os.makedirs('./data')\n",
    "if not os.path.exists('./data/train'):\n",
    "    os.makedirs('./data/train')\n",
    "if not os.path.exists('./data/dev'):\n",
    "    os.makedirs('./data/dev')\n",
    "if not os.path.exists('./checkpoint'):\n",
    "    os.makedirs('./checkpoint')"
   ]
  },
  {
   "cell_type": "code",
   "execution_count": 4,
   "metadata": {},
   "outputs": [],
   "source": [
    "import torch \n",
    "import torch.nn as nn\n",
    "import torch.nn.functional as F\n",
    "import torchvision"
   ]
  },
  {
   "cell_type": "code",
   "execution_count": 20,
   "metadata": {},
   "outputs": [],
   "source": [
    "def swish(x):\n",
    "    return x * torch.sigmoid(x)\n",
    "\n",
    "class FeatureExtractor(nn.Module):\n",
    "    def __init__(self, feature_layer=11):\n",
    "        super(FeatureExtractor, self).__init__()\n",
    "        cnn = torchvision.models.vgg19(pretrained=True)\n",
    "        self.features = nn.Sequential(*list(cnn.features.children())[:feature_layer+1])\n",
    "    def forward(self, x):\n",
    "        return self.features(x)\n",
    "    "
   ]
  },
  {
   "cell_type": "code",
   "execution_count": 21,
   "metadata": {},
   "outputs": [],
   "source": [
    "class Discriminator(nn.Module):\n",
    "    def __init__(self):\n",
    "        super(Discriminator, self).__init__()\n",
    "        self.conv1 = nn.Conv2d(3, 64, 3, stride=1, padding=1)\n",
    "        self.conv2 = nn.Conv2d(64, 64, 3, stride=2, padding=1)\n",
    "        self.bn2 = nn.BatchNorm2d(64)\n",
    "        self.conv3 = nn.Conv2d(64, 128, 3, stride=1, padding=1)\n",
    "        self.bn3 = nn.BatchNorm2d(128)\n",
    "        self.conv4 = nn.Conv2d(128, 128, 3, stride=2, padding=1)\n",
    "        self.bn4 = nn.BatchNorm2d(128)\n",
    "        self.conv5 = nn.Conv2d(128, 256, 3, stride=1, padding=1)\n",
    "        self.bn5 = nn.BatchNorm2d(256)\n",
    "        self.conv6 = nn.Conv2d(256, 256, 3, stride=2, padding=1)\n",
    "        self.bn6 = nn.BatchNorm2d(256)\n",
    "        self.conv7 = nn.Conv2d(256, 512, 3, stride=1, padding=1)\n",
    "        self.bn7 = nn.BatchNorm2d(512)\n",
    "        self.conv8 = nn.Conv2d(512, 512, 3, stride=2, padding=1)\n",
    "        self.bn8 = nn.BatchNorm2d(512)\n",
    "        self.conv9 = nn.Conv2d(512, 1, 1, stride=1, padding=1)\n",
    "\n",
    "    def forward(self, x):\n",
    "        x = swish(self.conv1(x))\n",
    "        x = swish(self.bn2(self.conv2(x)))\n",
    "        x = swish(self.bn3(self.conv3(x)))\n",
    "        x = swish(self.bn4(self.conv4(x)))\n",
    "        x = swish(self.bn5(self.conv5(x)))\n",
    "        x = swish(self.bn6(self.conv6(x)))\n",
    "        x = swish(self.bn7(self.conv7(x)))\n",
    "        x = swish(self.bn8(self.conv8(x)))\n",
    "        x = self.conv9(x)\n",
    "\n",
    "        return torch.sigmoid(F.avg_pool2d(x, x.size()[2:])).view(x.size()[0], -1)"
   ]
  },
  {
   "cell_type": "code",
   "execution_count": 22,
   "metadata": {},
   "outputs": [],
   "source": [
    "class Generator(nn.Module):\n",
    "    def __init__(self, n_residual_blocks, upscale_factor=2, n_filters=64, inplace=False):\n",
    "        super(Generator, self).__init__()\n",
    "        self.n_residual_blocks = n_residual_blocks\n",
    "        self.upsample_factor = upscale_factor\n",
    "        self.conv1 = nn.Conv2d(3, n_filters, 9, stride=1, padding=4)\n",
    "\n",
    "        for i in range(self.n_residual_blocks):\n",
    "            self.add_module('residual_block' + str(i + 1), ResidualBlock(n_filters, 3, n_filters, 1))\n",
    "\n",
    "        self.conv2 = nn.Conv2d(n_filters, n_filters, 3, stride=1, padding=1)\n",
    "        self.bn2 = nn.BatchNorm2d(n_filters)\n",
    "        for i in range(self.upsample_factor // 2):\n",
    "            self.add_module('upsample' + str(i + 1), UpsampleBlock(n_filters, n_filters))\n",
    "        self.conv3 = nn.Conv2d(n_filters, 3, 9, stride=1, padding=4)\n",
    "\n",
    "    def forward(self, x):\n",
    "        x = swish(self.conv1(x))\n",
    "        y = x.clone()\n",
    "\n",
    "        for i in range(self.n_residual_blocks):\n",
    "            y = self.__getattr__('residual_block' + str(i + 1))(y)\n",
    "\n",
    "        x = self.bn2(self.conv2(y)) + x\n",
    "\n",
    "        for i in range(self.upsample_factor // 2):\n",
    "            x = self.__getattr__('upsample' + str(i + 1))(x)\n",
    "\n",
    "        return self.conv3(x)\n"
   ]
  },
  {
   "cell_type": "code",
   "execution_count": 23,
   "metadata": {},
   "outputs": [],
   "source": [
    "class UpSampleConvLayer(nn.Module):\n",
    "    def __init__(self, in_channels, out_channels, kernel_size, stride, upsample=2):\n",
    "        super(UpSampleConvLayer, self).__init__()\n",
    "        self.upsample = upsample\n",
    "        self.upsample_layer = nn.Upsample(scale_factor=upsample)\n",
    "        reflection_padding = kernel_size // 2\n",
    "        self.reflection_pad = nn.ReflectionPad2d(reflection_padding)\n",
    "        self.conv = nn.Conv2d(in_channels, out_channels, kernel_size, stride)\n",
    "\n",
    "    def forward(self, x):\n",
    "        y = self.upsample_layer(x)\n",
    "        y = self.reflection_pad(y)\n",
    "        y = self.conv(y)\n",
    "        return y\n",
    "\n",
    "\n",
    "class ResidualBlock(nn.Module):\n",
    "    def __init__(self, channels=64, k=3, n=64, s=1):\n",
    "        super(ResidualBlock, self).__init__()\n",
    "        self.conv1 = nn.Conv2d(channels, n, k, stride=s, padding=1)\n",
    "        self.bn1 = nn.BatchNorm2d(n)\n",
    "        self.conv2 = nn.Conv2d(n, n, k, stride=s, padding=1)\n",
    "        self.bn2 = nn.BatchNorm2d(n)\n",
    "\n",
    "    def forward(self, x):\n",
    "        y = self.conv1(x)\n",
    "        y = self.bn1(y)\n",
    "        y = swish(y)\n",
    "        y = self.conv2(y)\n",
    "        y = self.bn2(y)\n",
    "        y = y + x\n",
    "        return y\n",
    "\n",
    "\n",
    "class UpsampleBlock(nn.Module):\n",
    "    def __init__(self, in_channels, out_channels):\n",
    "        super(UpsampleBlock, self).__init__()\n",
    "        # self.conv = nn.Conv2d(in_channels, out_channels * 4, 3, 1, padding=1)\n",
    "        self.convT = nn.ConvTranspose2d(in_channels, out_channels, 4, stride=2, padding=1, bias=False)\n",
    "        self.bn = nn.BatchNorm2d(out_channels)\n",
    "        # self.up_layer = UpSampleConvLayer(in_channels, out_channels, 3, 1)\n",
    "        # self.shuffler = nn.PixelShuffle(2)\n",
    "\n",
    "    def forward(self, x):\n",
    "        # y = self.up_layer(x)\n",
    "        # y = self.conv(x)\n",
    "        y = self.convT(x)\n",
    "        # y = self.shuffler(y)\n",
    "        y = self.bn(y)\n",
    "        y = swish(y)\n",
    "        return y"
   ]
  },
  {
   "cell_type": "code",
   "execution_count": 28,
   "metadata": {},
   "outputs": [],
   "source": [
    "import torchvision.transforms as transforms\n",
    "import torchvision.datasets as datasets\n",
    "import torch.optim as optim\n",
    "\n",
    "transform = transforms.Compose([transforms.RandomCrop(LOWRES*UPSCALE_FACTOR),\n",
    "                                transforms.ToTensor()])\n",
    "normalize = transforms.Normalize(mean=[0.485, 0.456, 0.406], std=[0.229, 0.224, 0.225])\n",
    "unnormalize = transforms.Normalize(mean = [-2.118, -2.036, -1.804], std = [4.367, 4.464, 4.444])\n",
    "\n",
    "scale = transforms.Compose([transforms.ToPILImage(), transforms.Resize(LOWRES),\n",
    "                            transforms.ToTensor(), transforms.Normalize(mean=[0.485, 0.456, 0.406], std=[0.229, 0.224, 0.225])])\n",
    "\n",
    "train_dataset = datasets.ImageFolder(root='/Users/vinayak/SRGAN_Research_Sharma/SRGAN_tester/data/train', transform=transform)\n",
    "dev_dataset = datasets.ImageFolder(root='/Users/vinayak/SRGAN_Research_Sharma/SRGAN_tester/data/dev', transform=transform)\n",
    "\n",
    "train_dataloader = torch.utils.data.DataLoader(train_dataset, BATCHSIZE)\n",
    "valid_dataloader = torch.utils.data.DataLoader(dev_dataset, 1)\n",
    "\n",
    "content_criterion = nn.MSELoss()\n",
    "# GeneratorDevice = torch.device(\"cuda:0\")\n",
    "# DiscriminatorDevice = torch.device(\"cuda:0\")\n",
    "GeneratorDevice = torch.device(\"cpu\")\n",
    "DiscriminatorDevice = torch.device(\"cpu\")\n",
    "adversarial_criterion = nn.BCELoss()\n",
    "\n",
    "generator = Generator(16, UPSCALE_FACTOR)\n",
    "discriminator = Discriminator()\n",
    "feature_extractor = FeatureExtractor()\n",
    "\n",
    "generator = generator.to(GeneratorDevice)\n",
    "discriminator = discriminator.to(DiscriminatorDevice)\n",
    "feature_extractor = feature_extractor.to(DiscriminatorDevice)\n",
    "low_res = torch.FloatTensor(BATCHSIZE, 3, LOWRES, LOWRES)\n",
    "ones_const = torch.ones(BATCHSIZE, 1).to(DiscriminatorDevice)"
   ]
  },
  {
   "cell_type": "markdown",
   "metadata": {},
   "source": [
    "# PreTrain Generator"
   ]
  },
  {
   "cell_type": "code",
   "execution_count": 30,
   "metadata": {},
   "outputs": [
    {
     "data": {
      "application/vnd.jupyter.widget-view+json": {
       "model_id": "da6f673bcd9b434c862792fd3eff0492",
       "version_major": 2,
       "version_minor": 0
      },
      "text/plain": [
       "HBox(children=(IntProgress(value=0, description='Pretraining', max=2, style=ProgressStyle(description_width='i…"
      ]
     },
     "metadata": {},
     "output_type": "display_data"
    },
    {
     "name": "stdout",
     "output_type": "stream",
     "text": [
      "\n"
     ]
    }
   ],
   "source": [
    "optim_generator = optim.Adam(generator.parameters(), lr=0.0001)\n",
    "for epoch in tqdm(range(2), desc = \"Pretraining\"):\n",
    "    for i, data in enumerate(train_dataloader):\n",
    "        pass"
   ]
  },
  {
   "cell_type": "code",
   "execution_count": 31,
   "metadata": {},
   "outputs": [
    {
     "data": {
      "application/vnd.jupyter.widget-view+json": {
       "model_id": "97aa51cf507e412781f10d035e7b1f97",
       "version_major": 2,
       "version_minor": 0
      },
      "text/plain": [
       "HBox(children=(IntProgress(value=0, description='pretraining', max=2, style=ProgressStyle(description_width='i…"
      ]
     },
     "metadata": {},
     "output_type": "display_data"
    },
    {
     "name": "stdout",
     "output_type": "stream",
     "text": [
      "\n"
     ]
    }
   ],
   "source": [
    "optim_generator = optim.Adam(generator.parameters(), lr=0.0001)\n",
    "for epoch in tqdm(range(2), desc ='pretraining'):\n",
    "        for i, data in enumerate(train_dataloader):\n",
    "            high_res_real, _ = data \n",
    "            for j in range(BATCHSIZE):\n",
    "                low_res[j] = scale(high_res_real[j])\n",
    "                high_res_real[j] = normalize(high_res_real[j])\n",
    "\n",
    "            high_res_real = high_res_real.to(GeneratorDevice)\n",
    "            high_res_fake = generator(low_res.to(GeneratorDevice))\n",
    "\n",
    "            generator.zero_grad()\n",
    "            generator_content_loss = content_criterion(high_res_fake, high_res_real)\n",
    "            generator_content_loss.backward()\n",
    "            optim_generator.step()\n",
    "\n",
    "               "
   ]
  },
  {
   "cell_type": "markdown",
   "metadata": {},
   "source": [
    "# Training"
   ]
  },
  {
   "cell_type": "code",
   "execution_count": 33,
   "metadata": {},
   "outputs": [
    {
     "ename": "ModuleNotFoundError",
     "evalue": "No module named 'tensorboardX'",
     "output_type": "error",
     "traceback": [
      "\u001b[0;31m---------------------------------------------------------------------------\u001b[0m",
      "\u001b[0;31mModuleNotFoundError\u001b[0m                       Traceback (most recent call last)",
      "\u001b[0;32m<ipython-input-33-02a11a0fd3a3>\u001b[0m in \u001b[0;36m<module>\u001b[0;34m\u001b[0m\n\u001b[0;32m----> 1\u001b[0;31m \u001b[0;32mfrom\u001b[0m \u001b[0mtensorboardX\u001b[0m \u001b[0;32mimport\u001b[0m \u001b[0mSummaryWriter\u001b[0m\u001b[0;34m\u001b[0m\u001b[0;34m\u001b[0m\u001b[0m\n\u001b[0m\u001b[1;32m      2\u001b[0m \u001b[0mwriter\u001b[0m \u001b[0;34m=\u001b[0m \u001b[0mSummaryWriter\u001b[0m\u001b[0;34m(\u001b[0m\u001b[0;34m)\u001b[0m\u001b[0;34m\u001b[0m\u001b[0;34m\u001b[0m\u001b[0m\n",
      "\u001b[0;31mModuleNotFoundError\u001b[0m: No module named 'tensorboardX'"
     ]
    }
   ],
   "source": [
    "from tensorboardX import SummaryWriter\n",
    "writer = SummaryWriter()"
   ]
  },
  {
   "cell_type": "code",
   "execution_count": 32,
   "metadata": {},
   "outputs": [
    {
     "ename": "SyntaxError",
     "evalue": "invalid syntax (<ipython-input-32-9dc82e897315>, line 5)",
     "output_type": "error",
     "traceback": [
      "\u001b[0;36m  File \u001b[0;32m\"<ipython-input-32-9dc82e897315>\"\u001b[0;36m, line \u001b[0;32m5\u001b[0m\n\u001b[0;31m    for epoch in tqdm(range(EPOCH), desc = ):\u001b[0m\n\u001b[0m                                           ^\u001b[0m\n\u001b[0;31mSyntaxError\u001b[0m\u001b[0;31m:\u001b[0m invalid syntax\n"
     ]
    }
   ],
   "source": [
    "generator_optimzer = optim.Adam(generator.parameters(), lr=0.00001)\n",
    "discriminator_optimzer = optim.Adam(discriminator.parameters(), lr=0.00001)\n",
    "\n",
    "\n",
    "for epoch in tqdm(range(EPOCH), desc = \"Training\" ):\n",
    "    for i, data in enumerate(train_dataloader):\n",
    "        high_res_real, _ = data\n",
    "        \n",
    "        for j in range(BATCHSIZE):\n",
    "            low_res[j] = scale(high_res_real[j])\n",
    "            high_res_real[j] = dnormalize(high_res_real[j])\n",
    "\n",
    "        high_res_real = high_res_real.to(GeneratorDevice)\n",
    "        high_res_fake = generator(low_res.to(GeneratorDevice))\n",
    "\n",
    "        target_real = (torch.rand(batchSize, 1) * 0.5 + 0.7).to(DiscriminatorDevice)\n",
    "        target_fake = (torch.rand(batchSize, 1) * 0.3).to(DiscriminatorDevice)\n",
    "        high_res_fake = high_res_fake.to(DiscriminatorDevice)\n",
    "        high_res_real = high_res_real.to(DiscriminatorDevice)\n",
    "\n",
    "        # Train Discriminator#\n",
    "        discriminator.zero_grad()\n",
    "        discriminiator_loss = adversarial_criterion(discriminator(high_res_real), target_real) + adversarial_criterion(discriminator(high_res_fake), target_fake)\n",
    "        discriminiator_loss.backward(retain_graph=True)\n",
    "        discriminator_optimzer.step()\n",
    "        real_features = feature_extractor(high_res_real)\n",
    "        fake_features = feature_extractor(high_res_fake)\n",
    "\n",
    "        # Train Generator#\n",
    "        generator.zero_grad()\n",
    "        generator_content_loss = content_criterion(high_res_fake, high_res_real) + 0.006 * content_criterion(fake_features, real_features)\n",
    "        generator_adversarial_loss = adversarial_criterion(discriminator(high_res_fake), ones_const)\n",
    "        generator_total_loss = generator_content_loss + 0.001 * generator_adversarial_loss\n",
    "        generator_total_loss.backward()\n",
    "        generator_optimzer.step()\n"
   ]
  },
  {
   "cell_type": "code",
   "execution_count": null,
   "metadata": {},
   "outputs": [],
   "source": [
    "t"
   ]
  }
 ],
 "metadata": {
  "kernelspec": {
   "display_name": "Python 3",
   "language": "python",
   "name": "python3"
  },
  "language_info": {
   "codemirror_mode": {
    "name": "ipython",
    "version": 3
   },
   "file_extension": ".py",
   "mimetype": "text/x-python",
   "name": "python",
   "nbconvert_exporter": "python",
   "pygments_lexer": "ipython3",
   "version": "3.8.3"
  }
 },
 "nbformat": 4,
 "nbformat_minor": 4
}
